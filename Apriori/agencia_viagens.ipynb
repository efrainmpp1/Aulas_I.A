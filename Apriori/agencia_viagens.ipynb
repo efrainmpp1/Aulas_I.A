{
 "cells": [
  {
   "cell_type": "markdown",
   "metadata": {},
   "source": [
    "### Problemática\n",
    "Uma agência de viagens deseja entender melhor os padrões de compra dos seus clientes para oferecer pacotes mais personalizados e aumentar as vendas. Para isso, eles querem identificar associações frequentes entre diferentes tipos de serviços e produtos comprados juntos. Os principais serviços e produtos oferecidos pela agência incluem:\n",
    "\n",
    "- Passagens aéreas\n",
    "- Reservas de hotéis\n",
    "- Aluguel de carros\n",
    "- Passeios turísticos\n",
    "- Seguros de viagem\n",
    "- Pacotes de cruzeiros\n",
    "\n",
    "Ao analisar os padrões de compra, a agência espera descobrir associações como a compra frequente de passagens aéreas com reservas de hotéis, ou passeios turísticos com seguros de viagem. Para realizar essa análise, a agência decide usar o algoritmo APRIORI para identificar as regras de associação mais significativas."
   ]
  },
  {
   "cell_type": "code",
   "execution_count": 1,
   "metadata": {},
   "outputs": [],
   "source": [
    "# Bibliotecas utilizadas \n",
    "#importando bibliotecas que serão utilizadas\n",
    "from mlxtend.frequent_patterns import apriori, association_rules\n",
    "import pandas as pd"
   ]
  },
  {
   "cell_type": "code",
   "execution_count": 5,
   "metadata": {},
   "outputs": [
    {
     "data": {
      "text/html": [
       "<div>\n",
       "<style scoped>\n",
       "    .dataframe tbody tr th:only-of-type {\n",
       "        vertical-align: middle;\n",
       "    }\n",
       "\n",
       "    .dataframe tbody tr th {\n",
       "        vertical-align: top;\n",
       "    }\n",
       "\n",
       "    .dataframe thead th {\n",
       "        text-align: right;\n",
       "    }\n",
       "</style>\n",
       "<table border=\"1\" class=\"dataframe\">\n",
       "  <thead>\n",
       "    <tr style=\"text-align: right;\">\n",
       "      <th></th>\n",
       "      <th>Aluguel de Carros</th>\n",
       "      <th>Pacotes de Cruzeiros</th>\n",
       "      <th>Passagens Aéreas</th>\n",
       "      <th>Passeios Turísticos</th>\n",
       "      <th>Reservas de Hotéis</th>\n",
       "      <th>Seguros de Viagem</th>\n",
       "    </tr>\n",
       "  </thead>\n",
       "  <tbody>\n",
       "    <tr>\n",
       "      <th>0</th>\n",
       "      <td>False</td>\n",
       "      <td>True</td>\n",
       "      <td>True</td>\n",
       "      <td>True</td>\n",
       "      <td>True</td>\n",
       "      <td>False</td>\n",
       "    </tr>\n",
       "    <tr>\n",
       "      <th>1</th>\n",
       "      <td>False</td>\n",
       "      <td>False</td>\n",
       "      <td>False</td>\n",
       "      <td>True</td>\n",
       "      <td>True</td>\n",
       "      <td>False</td>\n",
       "    </tr>\n",
       "    <tr>\n",
       "      <th>2</th>\n",
       "      <td>True</td>\n",
       "      <td>False</td>\n",
       "      <td>True</td>\n",
       "      <td>True</td>\n",
       "      <td>False</td>\n",
       "      <td>False</td>\n",
       "    </tr>\n",
       "    <tr>\n",
       "      <th>3</th>\n",
       "      <td>True</td>\n",
       "      <td>True</td>\n",
       "      <td>False</td>\n",
       "      <td>False</td>\n",
       "      <td>False</td>\n",
       "      <td>False</td>\n",
       "    </tr>\n",
       "    <tr>\n",
       "      <th>4</th>\n",
       "      <td>True</td>\n",
       "      <td>True</td>\n",
       "      <td>True</td>\n",
       "      <td>False</td>\n",
       "      <td>True</td>\n",
       "      <td>True</td>\n",
       "    </tr>\n",
       "  </tbody>\n",
       "</table>\n",
       "</div>"
      ],
      "text/plain": [
       "   Aluguel de Carros  Pacotes de Cruzeiros  Passagens Aéreas  \\\n",
       "0              False                  True              True   \n",
       "1              False                 False             False   \n",
       "2               True                 False              True   \n",
       "3               True                  True             False   \n",
       "4               True                  True              True   \n",
       "\n",
       "   Passeios Turísticos  Reservas de Hotéis  Seguros de Viagem  \n",
       "0                 True                True              False  \n",
       "1                 True                True              False  \n",
       "2                 True               False              False  \n",
       "3                False               False              False  \n",
       "4                False                True               True  "
      ]
     },
     "execution_count": 5,
     "metadata": {},
     "output_type": "execute_result"
    }
   ],
   "source": [
    "# Leitura da Base de Dados\n",
    "df = pd.read_csv('https://raw.githubusercontent.com/efrainmpp1/Aulas_I.A/main/datasets/transacoes_agencia_viagem.csv')\n",
    "df.head()"
   ]
  },
  {
   "cell_type": "markdown",
   "metadata": {},
   "source": [
    "### Aplicando o Algoritmo de Apriori"
   ]
  },
  {
   "cell_type": "markdown",
   "metadata": {},
   "source": [
    "Parâmetros Utilizados:\n",
    "\n",
    "- df: Este é o DataFrame de entrada que contém as transações. Cada coluna do DataFrame representa um item (serviço ou produto), e cada linha representa uma transação, com valores binários indicando a presença ou ausência de um item na transação.\n",
    "\n",
    "- min_support=0.1: Este parâmetro define o suporte mínimo para um conjunto de itens ser considerado frequente. O suporte é a proporção de transações no DataFrame que contêm o conjunto de itens. Neste caso, min_support=0.1 significa que apenas os conjuntos de itens que aparecem em pelo menos 10% das transações serão considerados frequentes.\n",
    "- use_colnames=True: Este parâmetro especifica que os nomes das colunas do DataFrame devem ser usados para os conjuntos de itens, em vez de usar os índices das colunas. Isso torna a saída mais legível e compreensível, pois os conjuntos de itens serão representados pelos nomes reais dos itens (serviços ou produtos)."
   ]
  },
  {
   "cell_type": "code",
   "execution_count": 6,
   "metadata": {},
   "outputs": [],
   "source": [
    "# Aplicando o algoritmo APRIORI\n",
    "frequent_itemsets = apriori(df, min_support=0.1, use_colnames=True)\n",
    "\n",
    "# Extraindo as regras de associação\n",
    "rules = association_rules(frequent_itemsets, metric=\"confidence\", min_threshold=0.80)\n",
    "\n",
    "# Selecionando apenas as colunas de suporte e confiança\n",
    "rules_selected = rules[['antecedents', 'consequents', 'support', 'confidence']]"
   ]
  },
  {
   "cell_type": "markdown",
   "metadata": {},
   "source": [
    "### Salvar regras em um arquivo .txt"
   ]
  },
  {
   "cell_type": "code",
   "execution_count": 7,
   "metadata": {},
   "outputs": [
    {
     "name": "stdout",
     "output_type": "stream",
     "text": [
      "Regras de associação salvas em 'regras_de_associacao.txt'\n"
     ]
    }
   ],
   "source": [
    "# Salvando as regras de associação em um arquivo .txt com melhor formatação\n",
    "with open('regras_de_associacao.txt', 'w') as f:\n",
    "    for index, row in rules_selected.iterrows():\n",
    "        f.write(f\"Antecedents: {', '.join(list(row['antecedents']))}\\n\")\n",
    "        f.write(f\"Consequents: {', '.join(list(row['consequents']))}\\n\")\n",
    "        f.write(f\"Support: {row['support']:.2f}\\n\")\n",
    "        f.write(f\"Confidence: {row['confidence']:.2f}\\n\")\n",
    "        f.write(\"\\n\")\n",
    "\n",
    "print(\"Regras de associação salvas em 'regras_de_associacao.txt'\")"
   ]
  },
  {
   "cell_type": "markdown",
   "metadata": {},
   "source": [
    "### Aplicação Prática\n",
    "Para a agência de viagens, essas informações podem ser usadas de várias maneiras:\n",
    "\n",
    "Promoções e Pacotes Combinados:\n",
    "\n",
    "- A agência pode criar pacotes promocionais que incluam as combinações mencionadas, incentivando os clientes a comprar tudo junto.\n",
    "Marketing Direcionado:\n",
    "\n",
    "- A agência pode direcionar suas campanhas de marketing para clientes que já compraram alguns dos itens antecedentes, promovendo os itens consequentes como adicionais.\n",
    "Recomendação de Produtos:\n",
    "\n",
    "- Em plataformas online, a agência pode usar essas regras para recomendar itens consequentes para clientes que já têm itens antecedentes em seu carrinho de compras ou histórico de compras.\n",
    "Essas regras fornecem insights valiosos sobre os padrões de compra dos clientes, permitindo que a agência de viagens tome decisões informadas para melhorar suas estratégias de vendas e marketing."
   ]
  }
 ],
 "metadata": {
  "kernelspec": {
   "display_name": "venv",
   "language": "python",
   "name": "python3"
  },
  "language_info": {
   "codemirror_mode": {
    "name": "ipython",
    "version": 3
   },
   "file_extension": ".py",
   "mimetype": "text/x-python",
   "name": "python",
   "nbconvert_exporter": "python",
   "pygments_lexer": "ipython3",
   "version": "3.12.3"
  }
 },
 "nbformat": 4,
 "nbformat_minor": 2
}
