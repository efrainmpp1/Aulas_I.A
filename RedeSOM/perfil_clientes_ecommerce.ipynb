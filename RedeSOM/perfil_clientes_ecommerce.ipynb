{
 "cells": [
  {
   "cell_type": "markdown",
   "metadata": {},
   "source": [
    "### Problemática\n",
    "\n",
    "Uma empresa de e-commerce deseja segmentar seus clientes para oferecer produtos personalizados e melhorar a experiência de compra. Para isso, eles precisam entender melhor os perfis dos clientes, agrupando-os em clusters com base em diferentes atributos. Os principais atributos que a empresa considera importantes para análise são:\n",
    "\n",
    "- Idade\n",
    "- Renda Anual\n",
    "- Frequência de Compra (número de compras por mês)\n",
    "- Valor Médio da Compra\n",
    "- Tempo de Fidelidade (número de meses desde a primeira compra)\n",
    "\n",
    "Com esses dados, a empresa espera identificar diferentes grupos de clientes, como jovens com alta frequência de compras e baixa renda, ou clientes mais velhos com alta renda e alto valor médio de compra. Para realizar essa segmentação, a empresa decide usar uma rede neural SOM (Self-Organizing Map), que é adequada para descobrir padrões e agrupar dados em clusters."
   ]
  },
  {
   "cell_type": "code",
   "execution_count": 3,
   "metadata": {},
   "outputs": [],
   "source": [
    "from minisom import MiniSom\n",
    "import matplotlib.pyplot as plt\n",
    "from sklearn.preprocessing import MinMaxScaler\n",
    "import pandas as pd\n",
    "import numpy as np"
   ]
  },
  {
   "cell_type": "code",
   "execution_count": null,
   "metadata": {},
   "outputs": [],
   "source": [
    "## fazer download da base de dados do link : https://raw.githubusercontent.com/efrainmpp1/Aulas_I.A/main/datasets/clientes_ecommerce.csv"
   ]
  },
  {
   "cell_type": "code",
   "execution_count": null,
   "metadata": {},
   "outputs": [],
   "source": [
    "# Normalização dos Dados"
   ]
  },
  {
   "cell_type": "markdown",
   "metadata": {},
   "source": [
    "### Treinamento da rede"
   ]
  },
  {
   "cell_type": "code",
   "execution_count": null,
   "metadata": {},
   "outputs": [],
   "source": [
    "#Iniciar os pesos\n",
    "\n",
    "# trainar rede com 50000 instancias"
   ]
  },
  {
   "cell_type": "markdown",
   "metadata": {},
   "source": [
    "### Mostrar perfil pelos pesos "
   ]
  },
  {
   "cell_type": "code",
   "execution_count": null,
   "metadata": {},
   "outputs": [],
   "source": [
    "# Obtem o vetor de pesos da rede treinada\n",
    "\n",
    "# Mostra subplot de todos os pesos"
   ]
  },
  {
   "cell_type": "code",
   "execution_count": null,
   "metadata": {},
   "outputs": [],
   "source": [
    "# Criando a matriz de frequências\n",
    "\n",
    "\n",
    "# Contando a frequência de ativações para cada neurônio"
   ]
  },
  {
   "cell_type": "markdown",
   "metadata": {},
   "source": [
    "### Interpretação\n",
    "A visualização obtida do SOM ajuda a identificar padrões e agrupamentos de clientes com características semelhantes. Por exemplo:\n",
    "\n",
    "- Clientes jovens com alta frequência de compras podem ser agrupados em um cluster específico.\n",
    "- Clientes mais velhos com alta renda e alto valor médio de compra podem formar outro cluster.\n",
    "\n",
    "Esses insights permitem à empresa oferecer produtos personalizados e melhorar a experiência do cliente."
   ]
  }
 ],
 "metadata": {
  "kernelspec": {
   "display_name": "venv",
   "language": "python",
   "name": "python3"
  },
  "language_info": {
   "codemirror_mode": {
    "name": "ipython",
    "version": 3
   },
   "file_extension": ".py",
   "mimetype": "text/x-python",
   "name": "python",
   "nbconvert_exporter": "python",
   "pygments_lexer": "ipython3",
   "version": "3.12.3"
  }
 },
 "nbformat": 4,
 "nbformat_minor": 2
}
